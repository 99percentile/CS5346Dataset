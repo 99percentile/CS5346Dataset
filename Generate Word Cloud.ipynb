{
 "cells": [
  {
   "cell_type": "code",
   "execution_count": 1,
   "id": "8091bac1",
   "metadata": {},
   "outputs": [],
   "source": [
    "import pandas as pd\n",
    "from nltk.corpus import stopwords\n",
    "from nltk.tokenize import word_tokenize\n",
    "import nltk\n",
    "from nltk.stem import PorterStemmer\n",
    "from tkinter import *\n",
    "import numpy as np\n",
    "from PIL import Image, ImageTk\n",
    "from wordcloud import WordCloud, STOPWORDS, ImageColorGenerator, get_single_color_func\n",
    "from wordcloud.wordcloud import colormap_color_func\n",
    "from matplotlib import pyplot as plt\n",
    "import cv2\n",
    "import matplotlib"
   ]
  },
  {
   "cell_type": "code",
   "execution_count": 2,
   "id": "6c4a205b",
   "metadata": {},
   "outputs": [],
   "source": [
    "df = pd.read_csv('netflix_titles.csv')"
   ]
  },
  {
   "cell_type": "code",
   "execution_count": 3,
   "id": "b678327a",
   "metadata": {},
   "outputs": [],
   "source": [
    "def generateWordCloud():\n",
    "    # get list of descriptions according to filter conditions\n",
    "    types = variable_type.get()\n",
    "    year = int(variable_release_year.get())\n",
    "    country = variable_country.get()\n",
    "    data = df[df['country'].str.contains(country,na=False) & df['type'].str.contains(types, na=False) & (df['release_year'] == year)]\n",
    "    descriptions = data['description'].tolist()\n",
    "    \n",
    "    # perform word stemming and filter stopwords\n",
    "    l = []\n",
    "    for description in descriptions:\n",
    "        stopwords = nltk.corpus.stopwords.words('english')\n",
    "        newStopWords = ['it','a','also','the','if']\n",
    "        stopwords.extend(newStopWords)\n",
    "\n",
    "        word_tokens = word_tokenize(description)\n",
    "\n",
    "        filtered_sentence = [w for w in word_tokens if not w.lower() in stopwords]\n",
    "\n",
    "        words=[word.lower() for word in filtered_sentence if word.isalpha()]\n",
    "        ps = PorterStemmer()\n",
    "\n",
    "        words = [ps.stem(word) for word in words]\n",
    "        l.extend([\" \".join(words)])\n",
    "    long_sentence = ' '.join(l)\n",
    "    \n",
    "    try:\n",
    "        wordcloud = WordCloud(max_font_size=50, max_words=100, background_color=\"white\").generate(long_sentence)\n",
    "    except:\n",
    "        label.config(text=\"No such content exists, please choose other combinations\")\n",
    "        return\n",
    "    wordcloud = np.array(wordcloud)\n",
    "    matplotlib.image.imsave('a.png', wordcloud)\n",
    "    image = Image.open(\"a.png\")\n",
    "    wc = ImageTk.PhotoImage(image)\n",
    "    \n",
    "    label.configure(image=wc)\n",
    "    label.image=wc\n"
   ]
  },
  {
   "cell_type": "code",
   "execution_count": 8,
   "id": "8a90e47e",
   "metadata": {},
   "outputs": [
    {
     "name": "stdout",
     "output_type": "stream",
     "text": [
      "France\n",
      "TV Show\n",
      "2010\n",
      "Botswana\n",
      "Japan\n",
      "2008\n"
     ]
    }
   ],
   "source": [
    "# Create object\n",
    "root = Tk()\n",
    "  \n",
    "# Adjust size\n",
    "root.geometry( \"500x400\" )\n",
    "\n",
    "def display_selected_type(choice):\n",
    "    choice = variable_type.get()\n",
    "    print(choice)\n",
    "\n",
    "def display_selected_release_year(choice):\n",
    "    choice = variable_release_year.get()\n",
    "    print(choice)\n",
    "    \n",
    "def display_selected_country(choice):\n",
    "    choice = variable_country.get()\n",
    "    print(choice)\n",
    "    \n",
    "# Dropdown menu options\n",
    "options_type = list(set(df['type'].tolist()))\n",
    "a = list(set(df['release_year'].tolist()))\n",
    "a.reverse()\n",
    "options_release_year = a\n",
    "a = df['country'].dropna().tolist()\n",
    "b = []\n",
    "for i in a:\n",
    "    c = list(map(lambda x:x.strip(), i.split(',')))\n",
    "    b.extend(c)\n",
    "options_country = list(set(b))[1:]\n",
    "options_country.sort()\n",
    "\n",
    "# Create Dropdown menu\n",
    "variable_type = StringVar()\n",
    "variable_type.set(options_type[0])\n",
    "drop = OptionMenu( root , variable_type , *options_type, command=display_selected_type)\n",
    "drop.pack()\n",
    "\n",
    "# Create Dropdown menu\n",
    "variable_release_year = StringVar()\n",
    "variable_release_year.set(options_release_year[0])\n",
    "drop = OptionMenu( root , variable_release_year , *options_release_year, command=display_selected_release_year)\n",
    "drop.pack()\n",
    "\n",
    "# Create Dropdown menu\n",
    "variable_country = StringVar()\n",
    "variable_country.set(options_country[0])\n",
    "drop = OptionMenu( root , variable_country , *options_country, command=display_selected_country)\n",
    "drop.pack()\n",
    "  \n",
    "# Create button, it will change label text\n",
    "button = Button( root , text = \"Generate Word Cloud\" , command = generateWordCloud).pack()\n",
    "  \n",
    "# Create Label\n",
    "image = Image.open(\"blank.png\")\n",
    "wc = ImageTk.PhotoImage(image)\n",
    "label = Label( root , image = wc )\n",
    "label.pack()\n",
    "  \n",
    "# Execute tkinter\n",
    "root.mainloop()"
   ]
  },
  {
   "cell_type": "code",
   "execution_count": null,
   "id": "a7db2745",
   "metadata": {},
   "outputs": [],
   "source": []
  }
 ],
 "metadata": {
  "kernelspec": {
   "display_name": "Python 3 (ipykernel)",
   "language": "python",
   "name": "python3"
  },
  "language_info": {
   "codemirror_mode": {
    "name": "ipython",
    "version": 3
   },
   "file_extension": ".py",
   "mimetype": "text/x-python",
   "name": "python",
   "nbconvert_exporter": "python",
   "pygments_lexer": "ipython3",
   "version": "3.8.8"
  },
  "varInspector": {
   "cols": {
    "lenName": 16,
    "lenType": 16,
    "lenVar": 40
   },
   "kernels_config": {
    "python": {
     "delete_cmd_postfix": "",
     "delete_cmd_prefix": "del ",
     "library": "var_list.py",
     "varRefreshCmd": "print(var_dic_list())"
    },
    "r": {
     "delete_cmd_postfix": ") ",
     "delete_cmd_prefix": "rm(",
     "library": "var_list.r",
     "varRefreshCmd": "cat(var_dic_list()) "
    }
   },
   "types_to_exclude": [
    "module",
    "function",
    "builtin_function_or_method",
    "instance",
    "_Feature"
   ],
   "window_display": false
  }
 },
 "nbformat": 4,
 "nbformat_minor": 5
}
