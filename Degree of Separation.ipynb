{
 "cells": [
  {
   "cell_type": "code",
   "execution_count": 1,
   "id": "4d96ec48",
   "metadata": {},
   "outputs": [],
   "source": [
    "import numpy as np\n",
    "import pandas as pd\n",
    "from scipy import sparse\n",
    "from matplotlib import pyplot as plt\n",
    "from tkinter import *\n",
    "from PIL import Image, ImageTk"
   ]
  },
  {
   "cell_type": "code",
   "execution_count": 2,
   "id": "3e39920f",
   "metadata": {},
   "outputs": [],
   "source": [
    "df = pd.read_csv('movie&actor.csv')\n",
    "movies = df['Movie'].tolist()\n",
    "actors = df['Name'].tolist()"
   ]
  },
  {
   "cell_type": "markdown",
   "id": "d4678bc6",
   "metadata": {},
   "source": [
    "### Create matrix"
   ]
  },
  {
   "cell_type": "code",
   "execution_count": 3,
   "id": "3bc2fa27",
   "metadata": {},
   "outputs": [],
   "source": [
    "dm = {}\n",
    "da = {}\n",
    "i = 0\n",
    "a = set(actors)\n",
    "m = set(movies)\n",
    "for j in a:\n",
    "    da[j] = i\n",
    "    i += 1\n",
    "for j in m:\n",
    "    dm[j] = i\n",
    "    i += 1\n",
    "    \n",
    "n = len(movies) + len(actors)\n",
    "graph = [[False for i in range(n)] for i in range(n)]\n",
    "for act, mov in zip(actors, movies):\n",
    "    graph[da[act]][dm[mov]] = True\n",
    "    graph[dm[mov]][da[act]] = True\n",
    "graph = sparse.csr_matrix(graph)"
   ]
  },
  {
   "cell_type": "code",
   "execution_count": 4,
   "id": "42b8119d",
   "metadata": {},
   "outputs": [],
   "source": [
    "def get_distances(adjacency, source):\n",
    "    n = adjacency.shape[0]\n",
    "    distances = np.inf * np.ones(n)\n",
    "    distances[source] = 0\n",
    "    reached = np.zeros(n).astype(bool)\n",
    "    reached[source] = True\n",
    "    stop = False\n",
    "    t = 0\n",
    "    while not stop:\n",
    "        t += 1\n",
    "        reached_new = adjacency.T.dot(reached)\n",
    "        stop = np.all(reached_new == reached)\n",
    "        distances[reached_new & ~reached] = t\n",
    "        reached |= reached_new\n",
    "    return distances"
   ]
  },
  {
   "cell_type": "code",
   "execution_count": 9,
   "id": "22adb2b9",
   "metadata": {},
   "outputs": [
    {
     "name": "stdout",
     "output_type": "stream",
     "text": [
      "pyimage17\n",
      "Benedict Cumberbatch\n",
      "pyimage18\n",
      "Sanda Shandu\n",
      "pyimage19\n",
      "Sarah Douglas\n",
      "pyimage20\n",
      "Sanda Shandu\n",
      "pyimage21\n",
      "Sanya Malhotra\n",
      "pyimage22\n"
     ]
    },
    {
     "data": {
      "image/png": "[encoded data removed]",
      "text/plain": [
       "<Figure size 432x288 with 1 Axes>"
      ]
     },
     "metadata": {
      "needs_background": "light"
     },
     "output_type": "display_data"
    }
   ],
   "source": [
    "# Create object\n",
    "root = Tk()\n",
    "  \n",
    "# Adjust size\n",
    "root.geometry( \"500x400\" )\n",
    "\n",
    "def generateHistogram():\n",
    "    source = da[variable_type.get()]\n",
    "    dist = get_distances(graph, source)\n",
    "    dist = dist[:len(actors)]\n",
    "    dist = dist[dist < 1e308]//2\n",
    "    values, counts = np.unique(dist, return_counts=True)\n",
    "    \n",
    "    plt.clf()\n",
    "    plt.bar(values, counts)\n",
    "    plt.xlabel('Degree of Separation')\n",
    "    plt.ylabel('Number of actors')\n",
    "    plt.title('Degree of Separation of {}'.format(variable_type.get()))\n",
    "    plt.savefig('hist.png')\n",
    "    \n",
    "    image = Image.open(\"hist.png\")\n",
    "    wc = ImageTk.PhotoImage(image)\n",
    "    print(wc)\n",
    "    \n",
    "    label.configure(image=wc)\n",
    "    label.image=wc\n",
    "\n",
    "def display_selected(choice):\n",
    "    choice = variable_type.get()\n",
    "    print(choice)\n",
    "    \n",
    "# Dropdown menu options\n",
    "count = {}\n",
    "for m, a in zip(movies, actors):\n",
    "    if a not in count:\n",
    "        count[a] = 0\n",
    "    count[a] += 1\n",
    "remove = list(count.items())\n",
    "e = []\n",
    "for name, c in remove:\n",
    "    if c >= 3:\n",
    "        e.append(name)\n",
    "e.sort()\n",
    "options_type = e\n",
    "\n",
    "# Create Dropdown menu\n",
    "variable_type = StringVar()\n",
    "variable_type.set(options_type[0])\n",
    "drop = OptionMenu( root , variable_type , *options_type, command=display_selected)\n",
    "drop.pack()\n",
    "  \n",
    "# Create button, it will change label text\n",
    "button = Button( root , text = \"Generate Histogram\" , command = generateHistogram).pack()\n",
    "  \n",
    "# Create Label\n",
    "image = Image.open(\"blank1.png\")\n",
    "wc = ImageTk.PhotoImage(image)\n",
    "label = Label( root , image = wc )\n",
    "label.pack()\n",
    "  \n",
    "# Execute tkinter\n",
    "root.mainloop()"
   ]
  },
  {
   "cell_type": "code",
   "execution_count": null,
   "id": "2a8a6190",
   "metadata": {},
   "outputs": [],
   "source": []
  }
 ],
 "metadata": {
  "kernelspec": {
   "display_name": "Python 3 (ipykernel)",
   "language": "python",
   "name": "python3"
  },
  "language_info": {
   "codemirror_mode": {
    "name": "ipython",
    "version": 3
   },
   "file_extension": ".py",
   "mimetype": "text/x-python",
   "name": "python",
   "nbconvert_exporter": "python",
   "pygments_lexer": "ipython3",
   "version": "3.8.8"
  },
  "varInspector": {
   "cols": {
    "lenName": 16,
    "lenType": 16,
    "lenVar": 40
   },
   "kernels_config": {
    "python": {
     "delete_cmd_postfix": "",
     "delete_cmd_prefix": "del ",
     "library": "var_list.py",
     "varRefreshCmd": "print(var_dic_list())"
    },
    "r": {
     "delete_cmd_postfix": ") ",
     "delete_cmd_prefix": "rm(",
     "library": "var_list.r",
     "varRefreshCmd": "cat(var_dic_list()) "
    }
   },
   "types_to_exclude": [
    "module",
    "function",
    "builtin_function_or_method",
    "instance",
    "_Feature"
   ],
   "window_display": false
  }
 },
 "nbformat": 4,
 "nbformat_minor": 5
}
